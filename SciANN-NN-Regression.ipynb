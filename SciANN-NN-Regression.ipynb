{
 "cells": [
  {
   "cell_type": "markdown",
   "id": "d27f5b63-0cab-4efd-bb3e-ab714eeef0ce",
   "metadata": {},
   "source": [
    "# PINNs-NN-函数拟合  \n",
    "为了说明物理信息神经网络和神经网络在进行函数拟合方面的区别，进行如下仿真。"
   ]
  },
  {
   "cell_type": "code",
   "execution_count": 1,
   "id": "c09fba7c-3223-4c85-b4cb-67100aee4b2d",
   "metadata": {},
   "outputs": [
    {
     "name": "stdout",
     "output_type": "stream",
     "text": [
      "---------------------- SCIANN 0.6.3.1 ---------------------- \n",
      "For details, check out our review paper and the documentation at: \n",
      " +  \"https://www.sciencedirect.com/science/article/pii/S0045782520307374\", \n",
      " +  \"https://arxiv.org/abs/2005.08803\", \n",
      " +  \"https://www.sciann.com\". \n",
      "\n",
      " Need support or would like to contribute, please join sciann`s slack group: \n",
      " +  \"https://join.slack.com/t/sciann/shared_invite/zt-ne1f5jlx-k_dY8RGo3ZreDXwz0f~CeA\" \n",
      " \n"
     ]
    }
   ],
   "source": [
    "import numpy as np\n",
    "import matplotlib.pyplot as plt\n",
    "import sciann as sn\n",
    "import tensorflow as tf"
   ]
  },
  {
   "cell_type": "markdown",
   "id": "39278d09-881b-4dfa-9e81-05ff9b45c23b",
   "metadata": {},
   "source": [
    "# 算例介绍  \n",
    "## 采用神经网络训练\n",
    "仿真的目标是使用sciann进行函数拟合，首先假设我们有根据公式得到的“仿真”数据集：\n",
    "$$f(x)=sin(x)sin(y)$$"
   ]
  },
  {
   "cell_type": "code",
   "execution_count": 2,
   "id": "0a9e7297-4d65-46e9-a711-e5523ee26763",
   "metadata": {},
   "outputs": [
    {
     "data": {
      "image/png": "[encoded data removed]",
      "text/plain": [
       "<Figure size 320x240 with 2 Axes>"
      ]
     },
     "metadata": {},
     "output_type": "display_data"
    }
   ],
   "source": [
    "x_data, y_data = np.meshgrid(\n",
    "    np.linspace(-np.pi, np.pi, 50),\n",
    "    np.linspace(-np.pi, np.pi, 50),\n",
    "    )\n",
    "f_data = np.sin(x_data) * np.sin(y_data)\n",
    "plt.figure(figsize=(4,3), dpi=80)\n",
    "plt.pcolor(x_data, y_data, f_data, cmap='seismic', shading='nearest')\n",
    "plt.colorbar()\n",
    "plt.show()"
   ]
  },
  {
   "cell_type": "markdown",
   "id": "9d3094b4-09eb-438c-a244-2e7b0b2554d3",
   "metadata": {},
   "source": [
    "# Step 1   \n",
    "第一步还是设定仿真函数和变量，在sciann中采用如下形式："
   ]
  },
  {
   "cell_type": "code",
   "execution_count": 3,
   "id": "eae74e6b-62f8-451a-a8d7-ff7696519161",
   "metadata": {},
   "outputs": [],
   "source": [
    "x = sn.Variable('x')\n",
    "y = sn.Variable('y')\n",
    "f = sn.Functional('f', [x, y], [10, 10, 10, 10], 'l-tanh', res_net=True)"
   ]
  },
  {
   "cell_type": "code",
   "execution_count": 4,
   "id": "42b0a4d8-cbcc-4af9-b9cf-7aa4451dc648",
   "metadata": {},
   "outputs": [
    {
     "data": {
      "image/png": "[encoded data removed]",
      "text/plain": [
       "<Figure size 320x240 with 2 Axes>"
      ]
     },
     "metadata": {},
     "output_type": "display_data"
    }
   ],
   "source": [
    "# 网络确定后，可以对初值进行提取和评价\n",
    "f_pred = f.eval([x_data, y_data])\n",
    "plt.figure(figsize=(4,3), dpi=80)\n",
    "im = plt.pcolor(x_data, y_data, f_pred, cmap='seismic', shading='nearest')\n",
    "plt.colorbar(im)\n",
    "plt.show()"
   ]
  },
  {
   "cell_type": "markdown",
   "id": "e7bd5741-0b3c-4085-8602-e13144b652b7",
   "metadata": {},
   "source": [
    "从这个图可以看到初始值和真值相差是很大的"
   ]
  },
  {
   "cell_type": "markdown",
   "id": "b7ab93ba-d9dd-4524-8c69-9a875bdb7bdd",
   "metadata": {},
   "source": [
    "# Step 2\n",
    "第二步是设定寻优模型，需要设定输入和目标，调用SciModel接口设定比较方便："
   ]
  },
  {
   "cell_type": "code",
   "execution_count": 5,
   "id": "fb5c408a-7b45-435f-b218-21e313a3c3a3",
   "metadata": {},
   "outputs": [],
   "source": [
    "d1 = sn.Data(f)\n",
    "m = sn.SciModel([x, y], d1)"
   ]
  },
  {
   "cell_type": "code",
   "execution_count": null,
   "id": "2d60e3b2-76eb-427b-b555-49abb1935264",
   "metadata": {},
   "outputs": [
    {
     "name": "stdout",
     "output_type": "stream",
     "text": [
      "\n",
      "Total samples: 2500 \n",
      "Batch size: 64 \n",
      "Total batches: 40 \n",
      "\n",
      "Epoch 1/1500\n",
      "40/40 [==============================] - 1s 18ms/step - loss: 0.2441\n",
      "Epoch 2/1500\n",
      "40/40 [==============================] - 0s 5ms/step - loss: 0.0876\n",
      "Epoch 3/1500\n",
      "40/40 [==============================] - 0s 6ms/step - loss: 0.0636\n",
      "Epoch 4/1500\n",
      "40/40 [==============================] - 0s 6ms/step - loss: 0.0512\n",
      "Epoch 5/1500\n",
      "40/40 [==============================] - 0s 6ms/step - loss: 0.0428\n",
      "Epoch 6/1500\n",
      "40/40 [==============================] - 0s 6ms/step - loss: 0.0364\n",
      "Epoch 7/1500\n",
      "40/40 [==============================] - 0s 6ms/step - loss: 0.0288\n",
      "Epoch 8/1500\n",
      "40/40 [==============================] - 0s 6ms/step - loss: 0.0233\n",
      "Epoch 9/1500\n",
      "40/40 [==============================] - 0s 6ms/step - loss: 0.0196\n",
      "Epoch 10/1500\n",
      "40/40 [==============================] - 0s 6ms/step - loss: 0.0186\n",
      "Epoch 11/1500\n",
      "40/40 [==============================] - 0s 5ms/step - loss: 0.0141\n",
      "Epoch 12/1500\n",
      "40/40 [==============================] - 0s 5ms/step - loss: 0.0127\n",
      "Epoch 13/1500\n",
      "40/40 [==============================] - 0s 6ms/step - loss: 0.0110\n",
      "Epoch 14/1500\n",
      "40/40 [==============================] - 0s 6ms/step - loss: 0.0091\n",
      "Epoch 15/1500\n",
      "40/40 [==============================] - 0s 6ms/step - loss: 0.0082\n",
      "Epoch 16/1500\n",
      "40/40 [==============================] - 0s 6ms/step - loss: 0.0071\n",
      "Epoch 17/1500\n",
      "40/40 [==============================] - 0s 5ms/step - loss: 0.0061\n",
      "Epoch 18/1500\n",
      "40/40 [==============================] - 0s 6ms/step - loss: 0.0053\n",
      "Epoch 19/1500\n",
      "40/40 [==============================] - 0s 6ms/step - loss: 0.0045\n",
      "Epoch 20/1500\n",
      "40/40 [==============================] - 0s 6ms/step - loss: 0.0042\n",
      "Epoch 21/1500\n",
      "40/40 [==============================] - 0s 6ms/step - loss: 0.0036\n",
      "Epoch 22/1500\n",
      "40/40 [==============================] - 0s 5ms/step - loss: 0.0032\n",
      "Epoch 23/1500\n",
      "40/40 [==============================] - 0s 5ms/step - loss: 0.0031\n",
      "Epoch 24/1500\n",
      "40/40 [==============================] - 0s 6ms/step - loss: 0.0030\n",
      "Epoch 25/1500\n",
      "40/40 [==============================] - 0s 6ms/step - loss: 0.0029\n",
      "Epoch 26/1500\n",
      "40/40 [==============================] - 0s 6ms/step - loss: 0.0036\n",
      "Epoch 27/1500\n",
      "40/40 [==============================] - 0s 6ms/step - loss: 0.0024\n",
      "Epoch 28/1500\n",
      "40/40 [==============================] - 0s 6ms/step - loss: 0.0021\n",
      "Epoch 29/1500\n",
      "40/40 [==============================] - 0s 6ms/step - loss: 0.0019\n",
      "Epoch 30/1500\n",
      "40/40 [==============================] - 0s 6ms/step - loss: 0.0019\n",
      "Epoch 31/1500\n",
      "40/40 [==============================] - 0s 5ms/step - loss: 0.0018\n",
      "Epoch 32/1500\n",
      "40/40 [==============================] - 0s 6ms/step - loss: 0.0017\n",
      "Epoch 33/1500\n",
      "40/40 [==============================] - 0s 6ms/step - loss: 0.0016\n",
      "Epoch 34/1500\n",
      "40/40 [==============================] - 0s 6ms/step - loss: 0.0014\n",
      "Epoch 35/1500\n",
      "40/40 [==============================] - 0s 6ms/step - loss: 0.0014\n",
      "Epoch 36/1500\n",
      "40/40 [==============================] - 0s 5ms/step - loss: 0.0017\n",
      "Epoch 37/1500\n",
      "40/40 [==============================] - 0s 6ms/step - loss: 0.0013\n",
      "Epoch 38/1500\n",
      "40/40 [==============================] - 0s 6ms/step - loss: 0.0012\n",
      "Epoch 39/1500\n",
      "40/40 [==============================] - 0s 6ms/step - loss: 0.0014\n",
      "Epoch 40/1500\n",
      "40/40 [==============================] - 0s 6ms/step - loss: 0.0010\n",
      "Epoch 41/1500\n",
      "40/40 [==============================] - 0s 6ms/step - loss: 0.0011\n",
      "Epoch 42/1500\n",
      "40/40 [==============================] - 0s 6ms/step - loss: 0.0011\n",
      "Epoch 43/1500\n",
      "40/40 [==============================] - 0s 5ms/step - loss: 0.0011\n",
      "Epoch 44/1500\n",
      "40/40 [==============================] - 0s 6ms/step - loss: 0.0011\n",
      "Epoch 45/1500\n",
      "40/40 [==============================] - 0s 6ms/step - loss: 9.2502e-04\n",
      "Epoch 46/1500\n",
      "40/40 [==============================] - 0s 5ms/step - loss: 7.4560e-04\n",
      "Epoch 47/1500\n",
      "40/40 [==============================] - 0s 6ms/step - loss: 0.0010\n",
      "Epoch 48/1500\n",
      "40/40 [==============================] - 0s 6ms/step - loss: 7.6982e-04\n",
      "Epoch 49/1500\n",
      "40/40 [==============================] - 0s 5ms/step - loss: 7.4430e-04\n",
      "Epoch 50/1500\n",
      "40/40 [==============================] - 0s 6ms/step - loss: 7.6390e-04\n",
      "Epoch 51/1500\n",
      "40/40 [==============================] - 0s 5ms/step - loss: 7.7650e-04\n",
      "Epoch 52/1500\n",
      "40/40 [==============================] - 0s 5ms/step - loss: 6.7514e-04\n",
      "Epoch 53/1500\n",
      "40/40 [==============================] - 0s 5ms/step - loss: 6.2926e-04\n",
      "Epoch 54/1500\n",
      "40/40 [==============================] - 0s 6ms/step - loss: 7.1101e-04\n",
      "Epoch 55/1500\n",
      "40/40 [==============================] - 0s 6ms/step - loss: 7.0747e-04\n",
      "Epoch 56/1500\n",
      "40/40 [==============================] - 0s 5ms/step - loss: 0.0010\n",
      "Epoch 57/1500\n",
      "40/40 [==============================] - 0s 6ms/step - loss: 5.9060e-04\n",
      "Epoch 58/1500\n",
      "40/40 [==============================] - 0s 6ms/step - loss: 6.1105e-04\n",
      "Epoch 59/1500\n",
      "40/40 [==============================] - 0s 6ms/step - loss: 7.4488e-04\n",
      "Epoch 60/1500\n",
      "40/40 [==============================] - 0s 6ms/step - loss: 6.0503e-04\n",
      "Epoch 61/1500\n",
      "40/40 [==============================] - 0s 6ms/step - loss: 9.8558e-04\n",
      "Epoch 62/1500\n",
      "40/40 [==============================] - 0s 6ms/step - loss: 6.1885e-04\n",
      "Epoch 63/1500\n",
      "40/40 [==============================] - 0s 5ms/step - loss: 5.5194e-04\n",
      "Epoch 64/1500\n",
      "40/40 [==============================] - 0s 6ms/step - loss: 5.5378e-04\n"
     ]
    }
   ],
   "source": [
    "# 然后可以用.train执行训练\n",
    "h = m.train([x_data, y_data], \n",
    "            f_data, \n",
    "            learning_rate=0.002, \n",
    "            epochs=1500)"
   ]
  },
  {
   "cell_type": "code",
   "execution_count": null,
   "id": "341eecc5-0e82-4119-af20-c95b746db919",
   "metadata": {},
   "outputs": [],
   "source": [
    "# 训练历史可以通过函数调用\n",
    "plt.semilogy(h.history['loss'])\n",
    "plt.show()"
   ]
  },
  {
   "cell_type": "markdown",
   "id": "8d080799-1290-40e0-872c-c4ceb054a4a1",
   "metadata": {},
   "source": [
    "我们现在采用更大的变量范围测试拟合结果，$x,y\\in [-2\\pi , 2 \\pi]$"
   ]
  },
  {
   "cell_type": "code",
   "execution_count": null,
   "id": "65bf97cc-f0db-47c5-9268-db9704c0ad2b",
   "metadata": {},
   "outputs": [],
   "source": [
    "x_test, y_test = np.meshgrid(np.linspace(-2*np.pi, 2*np.pi, 100), np.linspace(-2*np.pi, 2*np.pi, 100))\n",
    "f_test = np.sin(x_test) * np.sin(y_test)\n",
    "\n",
    "f_pred = f.eval([x_test, y_test])\n",
    "\n",
    "fig = plt.figure(3, figsize=(8, 3), dpi=80)\n",
    "ax = plt.subplot(1, 2, 1)\n",
    "h1 = ax.pcolormesh(x_test, y_test, f_test, \n",
    "                   cmap='seismic', shading='nearest',\n",
    "                   vmin=-1, vmax=1)\n",
    "fig.colorbar(h1)\n",
    "ax.set_xlabel('$x$')\n",
    "ax.set_ylabel('$y$')\n",
    "ax.set_title('exact')\n",
    "ax = plt.subplot(1, 2, 2)\n",
    "h2 = ax.pcolormesh(x_test, y_test, f_pred, cmap='seismic', \n",
    "                   shading='nearest',\n",
    "                   vmin=-1, vmax=1\n",
    "                  )\n",
    "plt.colorbar(h2)\n",
    "ax.set_xlabel('$x$')\n",
    "ax.set_ylabel('$y$')\n",
    "ax.set_title('NN-Pred')\n",
    "plt.show()"
   ]
  },
  {
   "cell_type": "markdown",
   "id": "33470af1-8b47-41e3-a3a3-c6c557d3d8bc",
   "metadata": {},
   "source": [
    "## 采用物理信息神经网络  \n",
    "这里函数：$f(x)=sin(x)sin(y)$满足以下齐次偏微分方程（PDE）：\n",
    "$$f_{xx}+f_{yy}+2f=0$$  \n",
    "我们把这个PDE作为损失函数的一部分"
   ]
  },
  {
   "cell_type": "markdown",
   "id": "7623bda9-9ace-4368-b67d-77cf93660ad5",
   "metadata": {},
   "source": [
    "## Step 1  \n",
    "定义网络"
   ]
  },
  {
   "cell_type": "code",
   "execution_count": null,
   "id": "0948ee4d-b7b2-4b4d-ab1b-fcd28795c3a9",
   "metadata": {},
   "outputs": [],
   "source": [
    "x = sn.Variable('x')\n",
    "y = sn.Variable('y')\n",
    "f = sn.Functional('f', [x, y], [10, 10, 10, 10], 'l-tanh', res_net=True)"
   ]
  },
  {
   "cell_type": "markdown",
   "id": "0fe40ed3-278a-4e1b-ae65-511fccb0b025",
   "metadata": {},
   "source": [
    "## Step 2  \n",
    "定义目标函数和优化模型"
   ]
  },
  {
   "cell_type": "code",
   "execution_count": null,
   "id": "a5063c10-e030-4c58-81b5-0e0e987b851d",
   "metadata": {},
   "outputs": [],
   "source": [
    "f_xx = sn.math.diff(f, x, order=2)\n",
    "f_yy = sn.math.diff(f, y, order=2)\n",
    "L = f_xx + f_yy + 2*f\n",
    "\n",
    "d1 = sn.Data(f)\n",
    "d2 = sn.Data(L)\n",
    "m = sn.SciModel([x, y], [d1, d2])\n",
    "\n",
    "h = m.train([x_data, y_data], [f_data, 'zero'], learning_rate=0.002, epochs=1500)"
   ]
  },
  {
   "cell_type": "code",
   "execution_count": null,
   "id": "d02157ce-6b1f-4b4e-abe5-44f61762cd6a",
   "metadata": {},
   "outputs": [],
   "source": [
    "plt.semilogy(h.history['loss'])\n",
    "plt.show()"
   ]
  },
  {
   "cell_type": "code",
   "execution_count": null,
   "id": "b1f9276e-1378-49df-9d16-0cb767cc5812",
   "metadata": {},
   "outputs": [],
   "source": [
    "x_test, y_test = np.meshgrid(np.linspace(-2*np.pi, 2*np.pi, 100), np.linspace(-2*np.pi, 2*np.pi, 100))\n",
    "f_test = np.sin(x_test) * np.sin(y_test)\n",
    "\n",
    "f_pred = f.eval([x_test, y_test])\n",
    "\n",
    "fig = plt.figure(3, figsize=(8, 3), dpi=80)\n",
    "ax = plt.subplot(1, 2, 1)\n",
    "h1 = ax.pcolormesh(x_test, y_test, f_test, cmap='seismic',\n",
    "                  shading='nearest',\n",
    "                   vmin=-1, vmax=1)\n",
    "fig.colorbar(h1)\n",
    "ax.set_xlabel('$x$')\n",
    "ax.set_ylabel('$y$')\n",
    "ax.set_title('exact')\n",
    "\n",
    "ax = plt.subplot(1, 2, 2)\n",
    "h2 = ax.pcolormesh(x_test, y_test, f_pred, cmap='seismic',\n",
    "                 shading='nearest',\n",
    "                   vmin=-1, vmax=1)\n",
    "plt.colorbar(h2)\n",
    "ax.set_xlabel('$x$')\n",
    "ax.set_ylabel('$y$')\n",
    "ax.set_title('PINNs-Pred')\n",
    "\n",
    "plt.show()"
   ]
  },
  {
   "cell_type": "markdown",
   "id": "a9be337f-5d68-43be-9988-52f22c1353fa",
   "metadata": {},
   "source": [
    "对于同样多数据驱动的模型，PINNs具有更高的精度和预测性。"
   ]
  },
  {
   "cell_type": "code",
   "execution_count": null,
   "id": "ae30a6ae-adf3-4305-9d87-5f7048bb6ea8",
   "metadata": {},
   "outputs": [],
   "source": []
  }
 ],
 "metadata": {
  "kernelspec": {
   "display_name": "Python 3",
   "language": "python",
   "name": "python3"
  },
  "language_info": {
   "codemirror_mode": {
    "name": "ipython",
    "version": 3
   },
   "file_extension": ".py",
   "mimetype": "text/x-python",
   "name": "python",
   "nbconvert_exporter": "python",
   "pygments_lexer": "ipython3",
   "version": "3.7.10"
  }
 },
 "nbformat": 4,
 "nbformat_minor": 5
}
