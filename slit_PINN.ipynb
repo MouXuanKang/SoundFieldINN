{
 "cells": [
  {
   "cell_type": "markdown",
   "id": "960cd17b-82a0-47f6-a703-5467f9fef20f",
   "metadata": {
    "slideshow": {
     "slide_type": "subslide"
    },
    "tags": []
   },
   "source": [
    "# 结合抛物方程分裂步进思想的声场物理信息神经网络  \n",
    "通过网络学习近似垂直声压分布，也就是算子X的计算。 \n",
    "达成的效果是输入网格左边的声压和网格右边的声速可以得到网格右边的声压。 \n",
    "\n",
    "## 非齐次Helmholtz方程的[r,z]二维情况  \n",
    "首先对于非声源点可以把非齐次Helmholtz方程的声场视为无源场。\n",
    "$$p_{xx}+p_{yy}+k^2p=0$$  \n",
    "*进行抛物近似，对于环境随距离缓慢变化环境，仅考虑扩散波，方程化简为：*  \n",
    "$$\\frac{\\partial P}{\\partial r}=ik_0\\sqrt{1+\\mathtt{X}}P$$  \n",
    "这个方程是常微分方程ODE，解为：  \n",
    "$$P(r+\\Delta r)=e^{ik_0\\Delta r\\sqrt{1+\\mathtt{X}}}P(r)$$  \n",
    "**其中：** \n",
    ">$\\mathtt{X}=k_0^{-2}(\\rho \\frac{\\partial}{\\partial z} \\frac{1}{\\rho}\\frac{\\partial P}{\\partial z}+k^2-k_0^2)$为算子   \n",
    ">$k=\\frac{\\omega}{c(z)}$ 表示波数  \n",
    ">$k_0=\\frac{\\omega}{c_0}$为参考波数  \n",
    ">$c_0$为参考声速  \n",
    "\n",
    "对于上面这种递推公式求解有不同的方法，Colins等采用pade近似和傅立叶级数方法求解，计算结果开角和精度取决于选择的pade近似系数。距离上的声压计算并不困难，深度方向算子$\\mathtt{X}$是计算的主要困难点。"
   ]
  },
  {
   "cell_type": "code",
   "execution_count": 1,
   "id": "1fac5642-a611-4b08-aba2-346bd2c771b5",
   "metadata": {},
   "outputs": [
    {
     "name": "stdout",
     "output_type": "stream",
     "text": [
      "---------------------- SCIANN 0.6.3.1 ---------------------- \n",
      "For details, check out our review paper and the documentation at: \n",
      " +  \"https://www.sciencedirect.com/science/article/pii/S0045782520307374\", \n",
      " +  \"https://arxiv.org/abs/2005.08803\", \n",
      " +  \"https://www.sciann.com\". \n",
      "\n",
      " Need support or would like to contribute, please join sciann`s slack group: \n",
      " +  \"https://join.slack.com/t/sciann/shared_invite/zt-ne1f5jlx-k_dY8RGo3ZreDXwz0f~CeA\" \n",
      " \n"
     ]
    }
   ],
   "source": [
    "import pathlib\n",
    "import matplotlib.pyplot as plt\n",
    "import numpy as np\n",
    "import matplotlib.gridspec as gridspec\n",
    "from sciann import Variable, Functional, Data, SciModel, PDE, Parameter\n",
    "import tensorflow.keras.callbacks as callbacks\n",
    "from sciann.utils.math import diff, cos, sqrt, sin\n",
    "import scipy.io                                                                                                                         \n",
    "import os\n",
    "import time\n",
    "from mpl_toolkits.axes_grid1 import make_axes_locatable"
   ]
  },
  {
   "cell_type": "markdown",
   "id": "aee64c66-935d-4022-a614-aaeaecac331a",
   "metadata": {
    "tags": []
   },
   "source": [
    "## 数据集设置：\n",
    "\n",
    "采用抛物方程计算程序RAM作为数据来源，对Collins给出的示例算例数据进行处理:  \n",
    ">1.提取声压实部和声压虚部;  \n",
    ">2.按照网格左右对应a侧和b侧."
   ]
  },
  {
   "cell_type": "code",
   "execution_count": 2,
   "id": "82a00d8e-e7ad-4183-bf43-f174f353d8ee",
   "metadata": {
    "tags": []
   },
   "outputs": [],
   "source": [
    "def data_tmp(num=10000, random=True):\n",
    "    # load data\n",
    "    data = scipy.io.loadmat('Data/slit_cylinder_pre_c0_w0.mat')\n",
    "    Re_Pa_star = data['RePa_star'][:, :]  # R-1 x Z\n",
    "    Im_Pa_star = data['ImPa_star'][:, :]  # R-1 x Z\n",
    "    Re_Pb_star = data['RePb_star'][:, :]  # R-1 x Z\n",
    "    Im_Pb_star = data['ImPb_star'][:, :]  # R-1 x Z\n",
    "    Rhoa_star = data['rhoa_star'][:, :]   # R-1 x Z\n",
    "    Rhob_star = data['rhob_star'][:, :]   # R-1 x Z\n",
    "    ca_star = data['ca_star'][:, :]       # R-1 x Z\n",
    "    cb_star = data['cb_star'][:, :]       # R-1 x Z\n",
    "    omega = data['omega_star'][:, :]      # R-1 x Z\n",
    "    # grids Range and Depth\n",
    "    R = data['R'][:, :]  # R x 1\n",
    "    Z = data['Z']  # Z x 1\n",
    "    # grids number of range&depth\n",
    "    nr = R.shape[1] - 1\n",
    "    nz = Z.shape[1]\n",
    "    Z_star = np.repeat(Z[:, 0:].T, nr, axis=1)\n",
    "    PI = 3.1415926\n",
    "    ka_star = omega[0][0] / ca_star  # R-1 x Z\n",
    "    kb_star = omega[0][0] / cb_star  # R-1 x Z\n",
    "    # Pick random data\n",
    "    if random:\n",
    "        idx = np.random.choice((nr)*(nz), num, replace=False)\n",
    "    else:\n",
    "        idx = np.arange(0, (nr)*(nz))\n",
    "        nr, nz = np.meshgrid(R[:,1:], Z)\n",
    "\n",
    "    zz = Z_star.flatten()[idx, None]  # (R-1)*(Z-2) x 1\n",
    "    ka = ka_star.flatten()[idx, None]  # (R-1)*(Z-2) x 1\n",
    "    rha = Rhoa_star.flatten()[idx, None]  # (R-1)*(Z-2) x 1\n",
    "    Rpa = Re_Pa_star.flatten()[idx, None]  # (R-1)*(Z-2) x 1\n",
    "    Ipa = Im_Pa_star.flatten()[idx, None]  # (R-1)*(Z-2) x 1\n",
    "\n",
    "    kb = kb_star.flatten()[idx, None]  # (R-1)*(Z-2)  x 1\n",
    "    rhb = Rhob_star.flatten()[idx, None]  # (R-1)*(Z-2)  x 1\n",
    "    Rpb = Re_Pb_star.flatten()[idx, None]  # (R-1)*(Z-2)  x 1\n",
    "    Ipb = Im_Pb_star.flatten()[idx, None]  # (R-1)*(Z-2)  x 1\n",
    "    # rloss = np.tile(10 * np.log10(R_star + eps), (Z, 1)).T\n",
    "    # tl = -20 * np.log10(eps + np.sqrt(Re_P_star ** 2 + Im_P_star ** 2)) + rloss\n",
    "    return zz, ka, kb, Rpa, Ipa, Rpb, Ipb, nr, nz"
   ]
  },
  {
   "cell_type": "markdown",
   "id": "39776ad4-4be7-43e5-a9fc-bc4c8983e5a2",
   "metadata": {},
   "source": [
    "## 主函数:  \n",
    ">设定变量Variable、参数Parameter和函数Function  \n",
    ">确定网络输入量和对应数据  \n",
    ">确定网络约束和对应数据  \n",
    ">设置好激活函数、寻优方法、损失函数、自适应方法，开始训练"
   ]
  },
  {
   "cell_type": "code",
   "execution_count": null,
   "id": "3ee2d4da-c424-4fc4-aec8-398a29027df1",
   "metadata": {},
   "outputs": [],
   "source": [
    "if __name__ == \"__main__\":\n",
    "    # prepare data\n",
    "    z_train, ka_train, kb_train, pa_real_train, pa_imag_train, pb_real_train, pb_imag_train, nr, nz = data_tmp()\n",
    "#     # flag\n",
    "    IsTrain = False\n",
    "#     IsTrain = True\n",
    "\n",
    "    # Variables and Fields\n",
    "    z = Variable(\"z\", dtype='float64')\n",
    "    k = Variable(\"k\", dtype='float64')\n",
    "    pa_real = Variable(\"pa_real\", dtype='float64')\n",
    "    pa_imag = Variable(\"pa_imag\", dtype='float64')\n",
    "#     k0 = Parameter(150.0*3.141592653/1500.0, inputs=[z, k], name='k0')\n",
    "    k0 = Parameter(np.random.rand(), inputs=[z, k], name='k0')\n",
    "    dr = Parameter(np.random.rand(), inputs=[z, k], name='dr')\n",
    "    # layers = [256, 256, 128, 128, 64, 64, 32, 32, 16, 16, 8, 8]\n",
    "    # layers = 10*[50]\n",
    "    layers = 4*[60]\n",
    "    pb_real = Functional(\"pb_real\", [z, k, pa_real], layers, 'tanh', res_net=True)\n",
    "    pb_imag = Functional(\"pb_imag\", [z, k, pa_imag], layers, 'tanh', res_net=True)\n",
    "\n",
    "    # Define constraints, pde split into real- and complex-valued part.\n",
    "    d1 = Data(pb_real)\n",
    "    d2 = Data(pb_imag)\n",
    "    X_real = sqrt(diff(pb_real, z, order=2) + k**2 + k0**2)\n",
    "    X_imag = sqrt(diff(pb_imag, z, order=2) + k**2 + k0**2)\n",
    "    c1 = PDE(pb_real - cos(dr*X_real)*pa_real)\n",
    "    c2 = PDE(pb_imag - sin(dr*X_imag)*pa_imag)\n",
    "\n",
    "    data_d1 = pb_real_train\n",
    "    data_d2 = pb_imag_train\n",
    "    data_c1 = 'zeros'\n",
    "    data_c2 = 'zeros'\n",
    "\n",
    "    input = [z, k, pa_real, pa_imag]\n",
    "    input_data = [z_train, ka_train, pa_real_train, pa_imag_train]\n",
    "    # constraints\n",
    "    cons = [d1, d2, c1, c2]\n",
    "    cons_data = [data_d1, data_d2, data_c1, data_c2]\n",
    "\n",
    "    model = SciModel(\n",
    "        input,\n",
    "        cons,\n",
    "        loss_func=\"mse\",\n",
    "        optimizer='Adam'\n",
    "        )\n",
    "\n",
    "    # callbacks\n",
    "    current_path = os.path.abspath('')\n",
    "    checkpoint_filepath = str(os.path.join(current_path, 'callbacks/helmholtz/slit_ram_dr10_dz2.ckpt'))\n",
    "    save_path = str(os.path.join(current_path, 'model/tanh_mse_Adam_NTK_4x60.hdf5'))\n",
    "    model_checkpoint_callback = callbacks.ModelCheckpoint(\n",
    "        filepath=checkpoint_filepath,\n",
    "        save_weights_only=True,\n",
    "        monitor='loss',\n",
    "        mode='auto',\n",
    "        save_best_only=True,\n",
    "        learning_rate=1e-6\n",
    "    )\n",
    "    if IsTrain:\n",
    "        t = time.time()\n",
    "        history = model.train(\n",
    "            input_data,\n",
    "            cons_data,\n",
    "            epochs=200,\n",
    "            batch_size=100,\n",
    "            adaptive_weights={\"method\":'NTK', 'freq':100, 'use_score':True},\n",
    "            shuffle=True,\n",
    "            learning_rate=0.001,\n",
    "            reduce_lr_after=100,\n",
    "            stop_loss_value=1e-8\n",
    "#             callbacks=[model_checkpoint_callback]\n",
    "        )\n",
    "        t = time.time() - t\n",
    "        model.save_weights(save_path)\n",
    "\n",
    "        fig1 = plt.figure(1)\n",
    "        plt.semilogy(history.history['loss'])\n",
    "        plt.xlabel('epochs')\n",
    "        plt.ylabel('loss')\n",
    "        plt.savefig('./figures/fig5_loss_history.png')\n",
    "\n",
    "    else:\n",
    "        model.load_weights(save_path)\n",
    "    "
   ]
  },
  {
   "cell_type": "markdown",
   "id": "1f0f8cff-ed98-4aa1-bcc5-11e00e9a5b2f",
   "metadata": {},
   "source": [
    "*采用tanh激活函数、MSE损失函数和NTK权重自适应*  \n",
    "从损失曲线看，在**epochs=66**已经收敛到较好的结果。  \n",
    "其中：  \n",
    "- Total samples: **10000** \n",
    "- Batch size: **100** \n",
    "- Total batches: **100** "
   ]
  },
  {
   "cell_type": "markdown",
   "id": "c0f2d1ea-840a-48e9-a580-137d66a4ce30",
   "metadata": {},
   "source": [
    "  ## 绘制RAM结果和网络预测结果"
   ]
  },
  {
   "cell_type": "code",
   "execution_count": null,
   "id": "dc690d12-7361-4025-b04d-bf4cd217382d",
   "metadata": {},
   "outputs": [],
   "source": [
    "    print(\"k0-exact: {}, k0-pred: {}\".format(150.0*3.141592653/1500.0, k0.value)) \n",
    "    # eval data\n",
    "    z_train, ka_train, kb_train, pa_real_train, pa_imag_train, pb_real_train, pb_imag_train, nr, nz = data_tmp(random=False)\n",
    "    \n",
    "    # exact solution\n",
    "    RePb_exact = pb_real_train.reshape(199, -1)\n",
    "    ImPb_exact = pb_imag_train.reshape(199, -1)\n",
    "    rloss = 10 * np.log10(nr)\n",
    "    TL = -20 * np.log10(np.sqrt(RePb_exact ** 2 + ImPb_exact ** 2)) + rloss\n",
    "    fig = plt.figure(1)\n",
    "    gs0 = gridspec.GridSpec(1, 4)\n",
    "    gs0.update(top=1 - 0.1, bottom=0.15, left=0.12, right=1.9, wspace=0.6)\n",
    "    ax = plt.subplot(gs0[:, 0:2])\n",
    "    h = ax.pcolormesh(nr / 1000, nz, TL, cmap='jet_r', shading='nearest', vmin=40, vmax=120)\n",
    "    ax.invert_yaxis()\n",
    "    divider = make_axes_locatable(ax)\n",
    "    cax = divider.append_axes(\"right\", size=\"5%\", pad=0.05)\n",
    "    cbar = fig.colorbar(h, cax=cax)\n",
    "    ax.set_xlabel('$Range,km$')\n",
    "    ax.set_ylabel('$Depth,m$')\n",
    "    ax.set_title('Exact Transmission Loss', fontsize=12)\n",
    "    \n",
    "    # pred solution\n",
    "    eval_input = [z_train, ka_train, pa_real_train, pa_imag_train]\n",
    "    p_real_pred = pb_real.eval(model, eval_input).reshape(199, -1)\n",
    "    p_imag_pred = pb_imag.eval(model, eval_input).reshape(199, -1)\n",
    "    tl_pred = -20 * np.log10(np.sqrt(p_real_pred ** 2 + p_imag_pred ** 2)) + rloss\n",
    "    ax = plt.subplot(gs0[:, 2:4])\n",
    "    h = ax.pcolormesh(nr / 1000, nz, tl_pred, cmap='jet_r', shading='nearest', vmin=40, vmax=120)\n",
    "    ax.invert_yaxis()\n",
    "    divider = make_axes_locatable(ax)\n",
    "    cax = divider.append_axes(\"right\", size=\"5%\", pad=0.05)\n",
    "    cbar = fig.colorbar(h, cax=cax)\n",
    "    ax.set_xlabel('$Range,km$', fontsize=12)\n",
    "    ax.set_ylabel('$Depth,m$', fontsize=12)\n",
    "    ax.set_title('Learned Transmission Loss', fontsize=13)\n",
    "    # save\n",
    "    plt.savefig('./figures/fig5-1.png', dpi=300, bbox_inches = 'tight')"
   ]
  },
  {
   "cell_type": "markdown",
   "id": "02210ba4-212d-4e16-bef9-f291e2f50098",
   "metadata": {},
   "source": [
    "   ## 绘制给定深度声压传播损失比较结果"
   ]
  },
  {
   "cell_type": "code",
   "execution_count": 9,
   "id": "e539f0fa-dbc4-4e81-9b3c-775629e36870",
   "metadata": {},
   "outputs": [
    {
     "data": {
      "image/png": "[encoded data removed]",
      "text/plain": [
       "<Figure size 432x288 with 1 Axes>"
      ]
     },
     "metadata": {
      "needs_background": "light"
     },
     "output_type": "display_data"
    }
   ],
   "source": [
    "    fig = plt.figure(2)\n",
    "    # Num of Depth, with dz=2m\n",
    "    d = 50\n",
    "    gs0 = gridspec.GridSpec(1, 3)\n",
    "    gs0.update(top=1 - 0.1, bottom=0.15, left=0.12, right=0.9, wspace=0.6)\n",
    "    ax = plt.subplot(gs0[:, :])\n",
    "    h = ax.plot(nr[d, :] / 1000,TL[d, :], 'k-',linewidth=1.5, label='Exact Pressure')\n",
    "    # pred solution\n",
    "    h = ax.plot(nr[d, :] / 1000, tl_pred[d, :], 'r-.', linewidth=1.5, label='Learned Pressure')\n",
    "    ax.invert_yaxis()\n",
    "    ax.set_xlabel('$Range,km$',fontsize=13)\n",
    "    ax.set_ylabel('$TL,dB$',fontsize=13)\n",
    "    ax.set_title(('Transmission Loss'+'(Depth='+str(d*2)+'m)'), fontsize=14)\n",
    "    plt.legend()\n",
    "    plt.savefig('./figures/fig5-2.png', dpi=300, bbox_inches = 'tight')"
   ]
  },
  {
   "cell_type": "code",
   "execution_count": null,
   "id": "c3eeed6c-5634-4ec7-adf5-c3036e1b998e",
   "metadata": {},
   "outputs": [],
   "source": []
  }
 ],
 "metadata": {
  "kernelspec": {
   "display_name": "Python 3",
   "language": "python",
   "name": "python3"
  },
  "language_info": {
   "codemirror_mode": {
    "name": "ipython",
    "version": 3
   },
   "file_extension": ".py",
   "mimetype": "text/x-python",
   "name": "python",
   "nbconvert_exporter": "python",
   "pygments_lexer": "ipython3",
   "version": "3.7.7"
  },
  "toc-autonumbering": false,
  "toc-showcode": true,
  "toc-showmarkdowntxt": false,
  "toc-showtags": false
 },
 "nbformat": 4,
 "nbformat_minor": 5
}
